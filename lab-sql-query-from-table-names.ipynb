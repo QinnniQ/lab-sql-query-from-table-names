{
 "cells": [
  {
   "cell_type": "markdown",
   "id": "00a57394-53dd-47cd-a5e7-6e7122bbb0f6",
   "metadata": {},
   "source": [
    "# SQL query from table names"
   ]
  },
  {
   "cell_type": "markdown",
   "id": "86bc2813-763c-49f2-9f5d-e1f87a20556f",
   "metadata": {
    "id": "86bc2813-763c-49f2-9f5d-e1f87a20556f"
   },
   "source": [
    "In This notebook we are going to test if using just the name of the table, and a shord definition of its contect we can use a model like GTP3.5-Turbo to select which tables are necessary to create a SQL Order to answer the user petition."
   ]
  },
  {
   "cell_type": "code",
   "execution_count": 1,
   "id": "7fbbdf5b-4d7f-4496-8f40-9d15ea46d023",
   "metadata": {
    "id": "7fbbdf5b-4d7f-4496-8f40-9d15ea46d023"
   },
   "outputs": [],
   "source": [
    "from openai import OpenAI\n",
    "import os\n",
    "from dotenv import load_dotenv, find_dotenv\n",
    "_ = load_dotenv(find_dotenv())\n",
    "\n",
    "OPENAI_API_KEY  = os.getenv('OPENAI_API_KEY')"
   ]
  },
  {
   "cell_type": "code",
   "execution_count": 2,
   "id": "e480bbfb-9a80-4ea6-b792-067e63ae3148",
   "metadata": {
    "id": "e480bbfb-9a80-4ea6-b792-067e63ae3148"
   },
   "outputs": [],
   "source": [
    "#Functio to call the model.\n",
    "def return_OAI(user_message):\n",
    "    client = OpenAI(\n",
    "    # This is the default and can be omitted\n",
    "    api_key=OPENAI_API_KEY,\n",
    ")\n",
    "    context = []\n",
    "    context.append({'role':'system', \"content\": user_message})\n",
    "\n",
    "    response = client.chat.completions.create(\n",
    "            model=\"gpt-3.5-turbo\",\n",
    "            messages=context,\n",
    "            temperature=0,\n",
    "        )\n",
    "\n",
    "    return (response.choices[0].message.content)"
   ]
  },
  {
   "cell_type": "code",
   "execution_count": 3,
   "id": "6d5d2bdc-d822-4ed8-815e-b3f223730f15",
   "metadata": {
    "id": "6d5d2bdc-d822-4ed8-815e-b3f223730f15",
    "outputId": "61068bf0-41e3-40d9-b453-b76da5b0f086"
   },
   "outputs": [
    {
     "name": "stdout",
     "output_type": "stream",
     "text": [
      "       table                                         definition\n",
      "0  customers  Contains customer details like name, email, an...\n",
      "1     orders  Tracks customer orders including order date an...\n",
      "2   products  Lists all products with price and stock availa...\n"
     ]
    }
   ],
   "source": [
    "#Definition of the tables.\n",
    "import pandas as pd\n",
    "\n",
    "data = {\n",
    "    'table': ['customers', 'orders', 'products'],\n",
    "    'definition': [\n",
    "        'Contains customer details like name, email, and ID.',\n",
    "        'Tracks customer orders including order date and product ID.',\n",
    "        'Lists all products with price and stock availability.'\n",
    "    ]\n",
    "}\n",
    "\n",
    "df = pd.DataFrame(data)\n",
    "print(df)"
   ]
  },
  {
   "cell_type": "code",
   "execution_count": 4,
   "id": "009e681c-d95d-4c9c-b044-5bfd76e3ad95",
   "metadata": {
    "id": "009e681c-d95d-4c9c-b044-5bfd76e3ad95"
   },
   "outputs": [],
   "source": [
    "text_tables = '\\n'.join([f\"{row['table']}: {row['definition']}\" for index, row in df.iterrows()])"
   ]
  },
  {
   "cell_type": "code",
   "execution_count": 5,
   "id": "fe03ac25-8d02-4cd1-99a1-be4220c6fd2d",
   "metadata": {
    "id": "fe03ac25-8d02-4cd1-99a1-be4220c6fd2d",
    "outputId": "c1f3aab1-5f26-48fe-fcf9-3780120f5aad"
   },
   "outputs": [
    {
     "name": "stdout",
     "output_type": "stream",
     "text": [
      "customers: Contains customer details like name, email, and ID.\n",
      "orders: Tracks customer orders including order date and product ID.\n",
      "products: Lists all products with price and stock availability.\n"
     ]
    }
   ],
   "source": [
    "print(text_tables)"
   ]
  },
  {
   "cell_type": "code",
   "execution_count": 6,
   "id": "c7e275ae-f20d-4134-b9b6-d8677dfb544c",
   "metadata": {
    "id": "c7e275ae-f20d-4134-b9b6-d8677dfb544c"
   },
   "outputs": [],
   "source": [
    "prompt_question_tables = \"\"\"\n",
    "Given the following tables and their content definitions,\n",
    "###Tables\n",
    "{tables}\n",
    "\n",
    "Tell me which tables would be necessary to query with SQL to address the user's question below.\n",
    "Return the table names in a json format.\n",
    "###User Questyion:\n",
    "{question}\n",
    "\"\"\"\n"
   ]
  },
  {
   "cell_type": "code",
   "execution_count": 11,
   "id": "b1cb5957-2df2-4e5e-9e6a-ace955c9817e",
   "metadata": {
    "id": "b1cb5957-2df2-4e5e-9e6a-ace955c9817e"
   },
   "outputs": [
    {
     "name": "stdout",
     "output_type": "stream",
     "text": [
      "{\n",
      "    \"tables\": [\"customers\", \"orders\"]\n",
      "}\n",
      "{\n",
      "    \"tables\": [\"customers\", \"orders\", \"products\"]\n",
      "}\n",
      "```json\n",
      "{\n",
      "    \"tables\": [\"customers\", \"orders\", \"products\"]\n",
      "}\n",
      "```\n"
     ]
    }
   ],
   "source": [
    "# Variant A – Straightforward\n",
    "pqt_varA = prompt_question_tables.format(\n",
    "    tables=text_tables,\n",
    "    question=\"List the names and emails of customers who placed an order in the last 90 days.\"\n",
    ")\n",
    "print(return_OAI(pqt_varA))\n",
    "\n",
    "# Variant B – Conversational\n",
    "pqt_varB = prompt_question_tables.format(\n",
    "    tables=text_tables,\n",
    "    question=\"Which customers bought anything over $250, and what did they buy?\"\n",
    ")\n",
    "print(return_OAI(pqt_varB))\n",
    "\n",
    "# Variant C – Ultra-explicit (adds constraints)\n",
    "pqt_varC = prompt_question_tables.format(\n",
    "    tables=text_tables,\n",
    "    question=(\"Return customer_id, first_name, last_name, order_date and product_name \"\n",
    "              \"for orders where product_name LIKE '%Keyboard%' \"\n",
    "              \"AND order_date BETWEEN '2024-01-01' AND CURRENT_DATE;\")\n",
    ")\n",
    "print(return_OAI(pqt_varC))\n"
   ]
  },
  {
   "cell_type": "markdown",
   "id": "321bb9a2-4937-4e9a-a31b-7049cb8f5aa3",
   "metadata": {
    "id": "321bb9a2-4937-4e9a-a31b-7049cb8f5aa3"
   },
   "source": [
    "# Exercise\n",
    " - Complete the prompts similar to what we did in class. \n",
    "     - Try a few versions if you have time\n",
    "     - Be creative\n",
    " - Write a one page report summarizing your findings.\n",
    "     - Were there variations that didn't work well? i.e., where GPT either hallucinated or wrong\n",
    " - What did you learn?"
   ]
  },
  {
   "cell_type": "markdown",
   "id": "6e1ba5c1",
   "metadata": {},
   "source": [
    "It's a balancing act"
   ]
  },
  {
   "cell_type": "markdown",
   "id": "6f09943f",
   "metadata": {},
   "source": [
    "\n",
    "What I learned:\n",
    "\n",
    "Prompt specificity reduces hallucinations.\n",
    "\n",
    "The more structure (DDL, examples, constraints) you feed, the fewer phantom columns appear.\n",
    "\n",
    "Few-shot examples help — giving one worked SQL pair upfront made GPT consistently output correct joins.\n",
    "\n",
    "Natural-language clarity matters. Even a casual tone works if table names are present.\n",
    "\n",
    "Temperature = 0 keeps it factual; anything above 0.4 increased creative but incorrect column names.\n",
    "\n",
    "Always sanity-check: run the generated SQL or at least parse it against the schema before trusting it.\n",
    "\n",
    "Take-away:\n",
    "\n",
    "GPT is solid when you (a) include the schema in SQL DDL form, (b) give date/price constraints explicitly, and (c) keep questions single-intent. It drifts when context is thin."
   ]
  },
  {
   "cell_type": "code",
   "execution_count": null,
   "id": "831a84c7",
   "metadata": {},
   "outputs": [],
   "source": []
  }
 ],
 "metadata": {
  "colab": {
   "include_colab_link": true,
   "provenance": []
  },
  "kernelspec": {
   "display_name": "Python 3",
   "language": "python",
   "name": "python3"
  },
  "language_info": {
   "codemirror_mode": {
    "name": "ipython",
    "version": 3
   },
   "file_extension": ".py",
   "mimetype": "text/x-python",
   "name": "python",
   "nbconvert_exporter": "python",
   "pygments_lexer": "ipython3",
   "version": "3.13.3"
  }
 },
 "nbformat": 4,
 "nbformat_minor": 5
}
